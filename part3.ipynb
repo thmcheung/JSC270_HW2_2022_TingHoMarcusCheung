{
  "nbformat": 4,
  "nbformat_minor": 0,
  "metadata": {
    "colab": {
      "provenance": [],
      "authorship_tag": "ABX9TyM/SQwWOhbg2owjT0pNEOWi",
      "include_colab_link": true
    },
    "kernelspec": {
      "name": "python3",
      "display_name": "Python 3"
    },
    "language_info": {
      "name": "python"
    }
  },
  "cells": [
    {
      "cell_type": "markdown",
      "metadata": {
        "id": "view-in-github",
        "colab_type": "text"
      },
      "source": [
        "<a href=\"https://colab.research.google.com/github/thmcheung/JSC270_HW2_2022_TingHoMarcusCheung/blob/main/part3.ipynb\" target=\"_parent\"><img src=\"https://colab.research.google.com/assets/colab-badge.svg\" alt=\"Open In Colab\"/></a>"
      ]
    },
    {
      "cell_type": "markdown",
      "source": [
        "# PART 3\n",
        "\n",
        "I have decided to do an entirely new analysis. The data set I am exploring is the Car 2022 dataset provided on Kaggle. This data set consists of all/most cars that are available to buy in India and their specifications. It was derived from the website https://www.cardekho.com/. The link for the dataset is https://www.kaggle.com/datasets/tr1gg3rtrash/cars-2022-dataset.\n",
        "\n",
        "Importing the data and libraries and processing the dataframe."
      ],
      "metadata": {
        "id": "sBac0diGd1nk"
      }
    },
    {
      "cell_type": "code",
      "execution_count": null,
      "metadata": {
        "colab": {
          "base_uri": "https://localhost:8080/"
        },
        "id": "ZY5qRmiAdzzA",
        "outputId": "f284ba20-7088-4867-f1b5-0de61eb89d18"
      },
      "outputs": [
        {
          "output_type": "stream",
          "name": "stdout",
          "text": [
            "<class 'pandas.core.frame.DataFrame'>\n",
            "Int64Index: 203 entries, 1 to 203\n",
            "Data columns (total 16 columns):\n",
            " #   Column               Non-Null Count  Dtype \n",
            "---  ------               --------------  ----- \n",
            " 0   car_name             203 non-null    object\n",
            " 1   reviews_count        203 non-null    object\n",
            " 2   fuel_type            203 non-null    object\n",
            " 3   engine_displacement  203 non-null    object\n",
            " 4   no_cylinder          203 non-null    object\n",
            " 5   seating_capacity     202 non-null    object\n",
            " 6   transmission_type    203 non-null    object\n",
            " 7   fuel_tank_capacity   203 non-null    object\n",
            " 8   body_type            203 non-null    object\n",
            " 9   rating               203 non-null    object\n",
            " 10  starting_price       203 non-null    object\n",
            " 11  ending_price         203 non-null    object\n",
            " 12  max_torque_nm        203 non-null    object\n",
            " 13  max_torque_rpm       203 non-null    object\n",
            " 14  max_power_bhp        203 non-null    object\n",
            " 15  max_power_rp         203 non-null    object\n",
            "dtypes: object(16)\n",
            "memory usage: 27.0+ KB\n",
            "None\n"
          ]
        },
        {
          "output_type": "execute_result",
          "data": {
            "text/plain": [
              "Petrol      125\n",
              "Diesel       55\n",
              "Electric     16\n",
              "CNG           7\n",
              "Name: fuel_type, dtype: int64"
            ]
          },
          "metadata": {},
          "execution_count": 11
        }
      ],
      "source": [
        "import pandas as pd\n",
        "import numpy as np\n",
        "import matplotlib.pyplot as plt\n",
        "import seaborn as sns\n",
        "from scipy.stats import ttest_ind\n",
        "import statsmodels.api as sm\n",
        "import statsmodels.formula.api as smf\n",
        "import requests\n",
        "\n",
        "url = 'https://drive.google.com/file/d/1TrWVojFPtf-813IKtiVWXpuuSoNV7Wyx/view?usp=sharing'\n",
        "url ='https://drive.google.com/uc?id=' + url.split('/')[-2]\n",
        "df = pd.read_csv(url, header=None)\n",
        "df.columns = [\"car_name\",\"reviews_count\",\"fuel_type\",\"engine_displacement\",\"no_cylinder\",\"seating_capacity\",\"transmission_type\",\n",
        "              \"fuel_tank_capacity\",\"body_type\",\"rating\",\"starting_price\",\"ending_price\",\"max_torque_nm\",\"max_torque_rpm\",\"max_power_bhp\",\"max_power_rp\"]\n",
        "df = df.drop(0)\n",
        "print(df.info())\n",
        "print(df['fuel_type'].value_counts())"
      ]
    },
    {
      "cell_type": "markdown",
      "source": [
        "The question I am interested in is predicting the max horsepower output of the car given its other important specifications (engine displacement and number of cylinders).\n",
        "\n",
        "Notice that the data type of the columns are all objects. After checking the data type of the columns, I realized that there are no missing values, however, all of the data that were meant to be integers are represented as strings. Furthermore, I noticed that not all cars are petrol, so limiting the analysis to petrol cars would be better.\n",
        "\n",
        "The first linear regression model I want to fit is the relationship between the engine displacement and the horsepower. I want to do this because most cars label their engine displacement in their name and the specification is a good indication of the power of the car. For example, the C63 AMG Mercedes was named after its 6.2 liter engine and it has massive horsepower.\n",
        "\n",
        "Create new dataframe of only petrol cars and convert the strings into integers.\n"
      ],
      "metadata": {
        "id": "IERFiKRud9Q4"
      }
    },
    {
      "cell_type": "code",
      "source": [
        "petrol = df[df['fuel_type'] != 'Electric']\n",
        "#convert horsepower into integer\n",
        "petrol['engine_displacement'] = petrol['engine_displacement'].astype(int)\n",
        "#convert max_power_bhp into float\n",
        "petrol['max_power_bhp'] = petrol['max_power_bhp'].astype(float)"
      ],
      "metadata": {
        "colab": {
          "base_uri": "https://localhost:8080/"
        },
        "id": "llbFMLjTd-z8",
        "outputId": "b2803df5-c878-4076-d3ac-1b69076b99e0"
      },
      "execution_count": null,
      "outputs": [
        {
          "output_type": "stream",
          "name": "stderr",
          "text": [
            "<ipython-input-12-2cb515ebbf0a>:3: SettingWithCopyWarning: \n",
            "A value is trying to be set on a copy of a slice from a DataFrame.\n",
            "Try using .loc[row_indexer,col_indexer] = value instead\n",
            "\n",
            "See the caveats in the documentation: https://pandas.pydata.org/pandas-docs/stable/user_guide/indexing.html#returning-a-view-versus-a-copy\n",
            "  petrol['engine_displacement'] = petrol['engine_displacement'].astype(int)\n",
            "<ipython-input-12-2cb515ebbf0a>:5: SettingWithCopyWarning: \n",
            "A value is trying to be set on a copy of a slice from a DataFrame.\n",
            "Try using .loc[row_indexer,col_indexer] = value instead\n",
            "\n",
            "See the caveats in the documentation: https://pandas.pydata.org/pandas-docs/stable/user_guide/indexing.html#returning-a-view-versus-a-copy\n",
            "  petrol['max_power_bhp'] = petrol['max_power_bhp'].astype(float)\n"
          ]
        }
      ]
    },
    {
      "cell_type": "markdown",
      "source": [
        "Find correlation between 'max_power_bhp' and 'engine_displacement'"
      ],
      "metadata": {
        "id": "e2n8SeNqeAlQ"
      }
    },
    {
      "cell_type": "code",
      "source": [
        "selected_columns = petrol[['max_power_bhp', 'engine_displacement']]\n",
        "corr_matrix = selected_columns.corr()\n",
        "print(corr_matrix)"
      ],
      "metadata": {
        "colab": {
          "base_uri": "https://localhost:8080/"
        },
        "id": "yPRBhBeQeExd",
        "outputId": "6a1a10dd-1e45-409a-a9b9-d47d3125effb"
      },
      "execution_count": null,
      "outputs": [
        {
          "output_type": "stream",
          "name": "stdout",
          "text": [
            "                     max_power_bhp  engine_displacement\n",
            "max_power_bhp             1.000000             0.862326\n",
            "engine_displacement       0.862326             1.000000\n"
          ]
        }
      ]
    },
    {
      "cell_type": "markdown",
      "source": [
        "As shown by the correlation index, the two variables have a strong positive relationship, as expected.\n",
        "\n",
        "Fit linear regression model where the dependent varaible is 'max_power_bhp' and the independent variable is 'engine displacement'."
      ],
      "metadata": {
        "id": "twf7dXDzeGpk"
      }
    },
    {
      "cell_type": "code",
      "source": [
        "reg1 = smf.ols('max_power_bhp ~ engine_displacement', data = petrol).fit()\n",
        "print(reg1.summary())"
      ],
      "metadata": {
        "colab": {
          "base_uri": "https://localhost:8080/"
        },
        "id": "Mpg2kxl6eHqB",
        "outputId": "085c33b8-5a1b-43a0-a63c-045410d67aca"
      },
      "execution_count": null,
      "outputs": [
        {
          "output_type": "stream",
          "name": "stdout",
          "text": [
            "                            OLS Regression Results                            \n",
            "==============================================================================\n",
            "Dep. Variable:          max_power_bhp   R-squared:                       0.744\n",
            "Model:                            OLS   Adj. R-squared:                  0.742\n",
            "Method:                 Least Squares   F-statistic:                     536.5\n",
            "Date:                Tue, 14 Feb 2023   Prob (F-statistic):           1.43e-56\n",
            "Time:                        19:53:12   Log-Likelihood:                -1122.4\n",
            "No. Observations:                 187   AIC:                             2249.\n",
            "Df Residuals:                     185   BIC:                             2255.\n",
            "Df Model:                           1                                         \n",
            "Covariance Type:            nonrobust                                         \n",
            "=======================================================================================\n",
            "                          coef    std err          t      P>|t|      [0.025      0.975]\n",
            "---------------------------------------------------------------------------------------\n",
            "Intercept             -36.4620     14.858     -2.454      0.015     -65.774      -7.150\n",
            "engine_displacement     0.1203      0.005     23.163      0.000       0.110       0.131\n",
            "==============================================================================\n",
            "Omnibus:                       23.435   Durbin-Watson:                   1.706\n",
            "Prob(Omnibus):                  0.000   Jarque-Bera (JB):               48.071\n",
            "Skew:                           0.586   Prob(JB):                     3.64e-11\n",
            "Kurtosis:                       5.190   Cond. No.                     5.91e+03\n",
            "==============================================================================\n",
            "\n",
            "Notes:\n",
            "[1] Standard Errors assume that the covariance matrix of the errors is correctly specified.\n",
            "[2] The condition number is large, 5.91e+03. This might indicate that there are\n",
            "strong multicollinearity or other numerical problems.\n"
          ]
        }
      ]
    },
    {
      "cell_type": "markdown",
      "source": [
        "As shown in regression model, the R-squared of the model is 0.744, which shows that the model is a rather fit linear model of the graph. The coefficients state that the baseline for the horsepower is -36.46 when the displacement is 0, which is impossible because no PETROL engine can have a displacement of 0. The horsepower increases by 0.1203 when there is a 1 ml increase in displacement on average.\n",
        "\n",
        "Now, I want to find out the relationship between the number of cylinders and the horsepower of the car.\n",
        "\n",
        "Again, I need to convert the number of cylinders into integers."
      ],
      "metadata": {
        "id": "iva2stVmeJnx"
      }
    },
    {
      "cell_type": "code",
      "source": [
        "petrol['no_cylinder'] = petrol['no_cylinder'].astype(int)"
      ],
      "metadata": {
        "colab": {
          "base_uri": "https://localhost:8080/"
        },
        "id": "-HCvwyTkeK8b",
        "outputId": "37a71669-bfe7-45af-ff96-82b35b0f420a"
      },
      "execution_count": null,
      "outputs": [
        {
          "output_type": "stream",
          "name": "stderr",
          "text": [
            "<ipython-input-15-a38e926373ba>:1: SettingWithCopyWarning: \n",
            "A value is trying to be set on a copy of a slice from a DataFrame.\n",
            "Try using .loc[row_indexer,col_indexer] = value instead\n",
            "\n",
            "See the caveats in the documentation: https://pandas.pydata.org/pandas-docs/stable/user_guide/indexing.html#returning-a-view-versus-a-copy\n",
            "  petrol['no_cylinder'] = petrol['no_cylinder'].astype(int)\n"
          ]
        }
      ]
    },
    {
      "cell_type": "markdown",
      "source": [
        "Now, fit the linear regression model."
      ],
      "metadata": {
        "id": "A9Ae8DMBeM5Z"
      }
    },
    {
      "cell_type": "code",
      "source": [
        "reg1 = smf.ols('max_power_bhp ~ no_cylinder', data = petrol).fit()\n",
        "print(reg1.summary())"
      ],
      "metadata": {
        "colab": {
          "base_uri": "https://localhost:8080/"
        },
        "id": "yGub3lzOeOrj",
        "outputId": "3f5629d3-db43-4d92-c681-cc5286dd4027"
      },
      "execution_count": null,
      "outputs": [
        {
          "output_type": "stream",
          "name": "stdout",
          "text": [
            "                            OLS Regression Results                            \n",
            "==============================================================================\n",
            "Dep. Variable:          max_power_bhp   R-squared:                       0.764\n",
            "Model:                            OLS   Adj. R-squared:                  0.763\n",
            "Method:                 Least Squares   F-statistic:                     600.2\n",
            "Date:                Tue, 14 Feb 2023   Prob (F-statistic):           5.66e-60\n",
            "Time:                        19:53:12   Log-Likelihood:                -1114.5\n",
            "No. Observations:                 187   AIC:                             2233.\n",
            "Df Residuals:                     185   BIC:                             2239.\n",
            "Df Model:                           1                                         \n",
            "Covariance Type:            nonrobust                                         \n",
            "===============================================================================\n",
            "                  coef    std err          t      P>|t|      [0.025      0.975]\n",
            "-------------------------------------------------------------------------------\n",
            "Intercept    -125.2410     17.345     -7.221      0.000    -159.460     -91.021\n",
            "no_cylinder    76.2748      3.113     24.499      0.000      70.133      82.417\n",
            "==============================================================================\n",
            "Omnibus:                       18.710   Durbin-Watson:                   1.821\n",
            "Prob(Omnibus):                  0.000   Jarque-Bera (JB):               26.780\n",
            "Skew:                           0.602   Prob(JB):                     1.53e-06\n",
            "Kurtosis:                       4.409   Cond. No.                         14.4\n",
            "==============================================================================\n",
            "\n",
            "Notes:\n",
            "[1] Standard Errors assume that the covariance matrix of the errors is correctly specified.\n"
          ]
        }
      ]
    },
    {
      "cell_type": "markdown",
      "source": [
        "As shown, the model is rather fit because the r squared is 0.765, which is pretty large.\n",
        "\n",
        "Furthermore, the intercept of the horsepower is -125.82, which is again unrealistic because no PETROL car can have 0 cylinders. Also, the model shows us that an increase of 1 cylinder will lead to an increase of 76.3 horsepowers.\n",
        "\n",
        "Lastly, I want to fit a linear regression model that uses both the number of cylinders and engine displacement as independent variables and horsepower as the dependent variable."
      ],
      "metadata": {
        "id": "nt-xU6DyeQOu"
      }
    },
    {
      "cell_type": "code",
      "source": [
        "reg1 = smf.ols('max_power_bhp ~ no_cylinder + engine_displacement', data = petrol).fit()\n",
        "print(reg1.summary())"
      ],
      "metadata": {
        "colab": {
          "base_uri": "https://localhost:8080/"
        },
        "id": "ZDtsN2PmeSKO",
        "outputId": "1a52d016-703b-428a-d0bb-0488c4e4d44c"
      },
      "execution_count": null,
      "outputs": [
        {
          "output_type": "stream",
          "name": "stdout",
          "text": [
            "                            OLS Regression Results                            \n",
            "==============================================================================\n",
            "Dep. Variable:          max_power_bhp   R-squared:                       0.779\n",
            "Model:                            OLS   Adj. R-squared:                  0.777\n",
            "Method:                 Least Squares   F-statistic:                     324.5\n",
            "Date:                Tue, 14 Feb 2023   Prob (F-statistic):           4.57e-61\n",
            "Time:                        19:53:12   Log-Likelihood:                -1108.4\n",
            "No. Observations:                 187   AIC:                             2223.\n",
            "Df Residuals:                     184   BIC:                             2233.\n",
            "Df Model:                           2                                         \n",
            "Covariance Type:            nonrobust                                         \n",
            "=======================================================================================\n",
            "                          coef    std err          t      P>|t|      [0.025      0.975]\n",
            "---------------------------------------------------------------------------------------\n",
            "Intercept            -100.9387     18.211     -5.543      0.000    -136.869     -65.009\n",
            "no_cylinder            47.5417      8.739      5.440      0.000      30.301      64.783\n",
            "engine_displacement     0.0490      0.014      3.504      0.001       0.021       0.077\n",
            "==============================================================================\n",
            "Omnibus:                       18.462   Durbin-Watson:                   1.786\n",
            "Prob(Omnibus):                  0.000   Jarque-Bera (JB):               28.671\n",
            "Skew:                           0.561   Prob(JB):                     5.94e-07\n",
            "Kurtosis:                       4.556   Cond. No.                     8.20e+03\n",
            "==============================================================================\n",
            "\n",
            "Notes:\n",
            "[1] Standard Errors assume that the covariance matrix of the errors is correctly specified.\n",
            "[2] The condition number is large, 8.2e+03. This might indicate that there are\n",
            "strong multicollinearity or other numerical problems.\n"
          ]
        }
      ]
    },
    {
      "cell_type": "markdown",
      "source": [
        "As shown by the summary of the model, this model is a better model than both the other models because the R-squared is larger than both the others.\n",
        "\n",
        "This model suggestst that a petrol car with 0 cylinders and 0 engine displacement has an average of -101.47 horsepower, which is again unrealistic. An increase of 1 cylinder will on average increase horsepower by 47.53 and the increase of the engine_displacement of 1 ml will increase horsepower by 0.049.\n",
        "\n",
        "Now, as a fun bonus, I will use this model to predict the horsepower of my car, which is a Mazda 3 with an engine displacement of 2.5 liters and 4 cylinders."
      ],
      "metadata": {
        "id": "nOYSSPNneU0q"
      }
    },
    {
      "cell_type": "code",
      "source": [
        "predicted_bhp = -101.4779 + 47.5265 * 4 + 0.0491 * 2500\n",
        "print(predicted_bhp)"
      ],
      "metadata": {
        "colab": {
          "base_uri": "https://localhost:8080/"
        },
        "id": "hQQ4Vc6reZlT",
        "outputId": "c1077a95-e977-44cb-be30-63e9a13488b9"
      },
      "execution_count": null,
      "outputs": [
        {
          "output_type": "stream",
          "name": "stdout",
          "text": [
            "211.3781\n"
          ]
        }
      ]
    },
    {
      "cell_type": "markdown",
      "source": [
        "The answer is 211.3781 hp, which is a little lower than its claimed bhp, which is 227hp, which means the model underpredicts the bhp of my car, which also means that my car has a higher power output compared with the average car in the dataset with similar engine displacement and number of cylinders."
      ],
      "metadata": {
        "id": "zjLFM6dbeaBV"
      }
    }
  ]
}