{
  "nbformat": 4,
  "nbformat_minor": 0,
  "metadata": {
    "colab": {
      "provenance": [],
      "authorship_tag": "ABX9TyO49WeKaMY3atemSSNK9OQ2",
      "include_colab_link": true
    },
    "kernelspec": {
      "name": "python3",
      "display_name": "Python 3"
    },
    "language_info": {
      "name": "python"
    }
  },
  "cells": [
    {
      "cell_type": "markdown",
      "metadata": {
        "id": "view-in-github",
        "colab_type": "text"
      },
      "source": [
        "<a href=\"https://colab.research.google.com/github/thmcheung/JSC270_HW2_2022_TingHoMarcusCheung/blob/main/part2.ipynb\" target=\"_parent\"><img src=\"https://colab.research.google.com/assets/colab-badge.svg\" alt=\"Open In Colab\"/></a>"
      ]
    },
    {
      "cell_type": "markdown",
      "source": [
        "# PART 2\n",
        "\n",
        "https://github.com/thmcheung/JSC270_HW2_2022_TingHoMarcusCheung\n",
        "\n",
        "\n",
        "Libraries import"
      ],
      "metadata": {
        "id": "mD1yecqXylGi"
      }
    },
    {
      "cell_type": "code",
      "execution_count": 79,
      "metadata": {
        "id": "1Y5vFrY6ye-f"
      },
      "outputs": [],
      "source": [
        "import pandas as pd\n",
        "import numpy as np\n",
        "import matplotlib.pyplot as plt\n",
        "import seaborn as sns\n",
        "from scipy.stats import ttest_ind\n",
        "import statsmodels.api as sm\n",
        "import statsmodels.formula.api as smf\n",
        "import requests"
      ]
    },
    {
      "cell_type": "markdown",
      "source": [
        "Importing data"
      ],
      "metadata": {
        "id": "bzDVXGZ5yqAY"
      }
    },
    {
      "cell_type": "code",
      "source": [
        "income94 = pd.read_csv('https://archive.ics.uci.edu/ml/machine-learning-databases/adult/adult.data', header=None)\n",
        "income94.columns = ['age','workclass', 'fnlwgt','education','education_num','marital_status','occupation',\n",
        "                    'relationship','race','sex','capital_gain','capital_loss','hours_per_week','native_country','gross_income_group']"
      ],
      "metadata": {
        "id": "BKt3vdiGyjdo"
      },
      "execution_count": 80,
      "outputs": []
    },
    {
      "cell_type": "markdown",
      "source": [
        "# Initial data exploration\n",
        "Check the columns of the data"
      ],
      "metadata": {
        "id": "3Q_zoMdM2MOx"
      }
    },
    {
      "cell_type": "code",
      "source": [
        "income94.info()"
      ],
      "metadata": {
        "colab": {
          "base_uri": "https://localhost:8080/",
          "height": 0
        },
        "id": "fvrbmVZy2P-B",
        "outputId": "cee925cb-97f9-4e75-87af-8b49581f1c5a"
      },
      "execution_count": 81,
      "outputs": [
        {
          "output_type": "stream",
          "name": "stdout",
          "text": [
            "<class 'pandas.core.frame.DataFrame'>\n",
            "RangeIndex: 32561 entries, 0 to 32560\n",
            "Data columns (total 15 columns):\n",
            " #   Column              Non-Null Count  Dtype \n",
            "---  ------              --------------  ----- \n",
            " 0   age                 32561 non-null  int64 \n",
            " 1   workclass           32561 non-null  object\n",
            " 2   fnlwgt              32561 non-null  int64 \n",
            " 3   education           32561 non-null  object\n",
            " 4   education_num       32561 non-null  int64 \n",
            " 5   marital_status      32561 non-null  object\n",
            " 6   occupation          32561 non-null  object\n",
            " 7   relationship        32561 non-null  object\n",
            " 8   race                32561 non-null  object\n",
            " 9   sex                 32561 non-null  object\n",
            " 10  capital_gain        32561 non-null  int64 \n",
            " 11  capital_loss        32561 non-null  int64 \n",
            " 12  hours_per_week      32561 non-null  int64 \n",
            " 13  native_country      32561 non-null  object\n",
            " 14  gross_income_group  32561 non-null  object\n",
            "dtypes: int64(6), object(9)\n",
            "memory usage: 3.7+ MB\n"
          ]
        }
      ]
    },
    {
      "cell_type": "markdown",
      "source": [
        "The data types based on their descriptions are correct, all the \"continuous\" data are int64 and the categorical data are object\n"
      ],
      "metadata": {
        "id": "-PyZfdZJ3tML"
      }
    },
    {
      "cell_type": "markdown",
      "source": [
        "Find representation of missing values"
      ],
      "metadata": {
        "id": "GOOBhyck4uZF"
      }
    },
    {
      "cell_type": "code",
      "source": [
        "income94['workclass'].value_counts()"
      ],
      "metadata": {
        "colab": {
          "base_uri": "https://localhost:8080/",
          "height": 0
        },
        "id": "swdY7p6y4r43",
        "outputId": "ed14befa-7b95-4b07-9e46-b416e104fbf5"
      },
      "execution_count": 82,
      "outputs": [
        {
          "output_type": "execute_result",
          "data": {
            "text/plain": [
              " Private             22696\n",
              " Self-emp-not-inc     2541\n",
              " Local-gov            2093\n",
              " ?                    1836\n",
              " State-gov            1298\n",
              " Self-emp-inc         1116\n",
              " Federal-gov           960\n",
              " Without-pay            14\n",
              " Never-worked            7\n",
              "Name: workclass, dtype: int64"
            ]
          },
          "metadata": {},
          "execution_count": 82
        }
      ]
    },
    {
      "cell_type": "markdown",
      "source": [
        "As shown, there are 1836 missing values in the column 'workclass' and they are represented as ' ?'\n",
        "\n",
        "Now, replace ' ?' with np.nan.\n",
        "\n",
        "For real, why is there a space before the question mark?\n",
        "\n",
        "Nan counts:"
      ],
      "metadata": {
        "id": "idlkOTtU9ynD"
      }
    },
    {
      "cell_type": "code",
      "source": [
        "income94 = income94.replace(' ?', np.nan)\n",
        "nan_counts = income94.isna().sum()\n",
        "print(nan_counts)"
      ],
      "metadata": {
        "colab": {
          "base_uri": "https://localhost:8080/",
          "height": 0
        },
        "id": "GFjRsz9b-KQS",
        "outputId": "9fc483d0-d292-4798-e2f7-d71d733ba799"
      },
      "execution_count": 83,
      "outputs": [
        {
          "output_type": "stream",
          "name": "stdout",
          "text": [
            "age                      0\n",
            "workclass             1836\n",
            "fnlwgt                   0\n",
            "education                0\n",
            "education_num            0\n",
            "marital_status           0\n",
            "occupation            1843\n",
            "relationship             0\n",
            "race                     0\n",
            "sex                      0\n",
            "capital_gain             0\n",
            "capital_loss             0\n",
            "hours_per_week           0\n",
            "native_country         583\n",
            "gross_income_group       0\n",
            "dtype: int64\n"
          ]
        }
      ]
    },
    {
      "cell_type": "markdown",
      "source": [
        "Plot capital_gains using histogram"
      ],
      "metadata": {
        "id": "YtrWqpAZEZh7"
      }
    },
    {
      "cell_type": "code",
      "source": [
        "plt.hist(income94.capital_gain, bins = 12)\n",
        "plt.title('Histogram of capital_gain')\n",
        "plt.xlabel('Capital Gain')\n",
        "plt.ylabel('Relative Frequency')\n",
        "plt.show()"
      ],
      "metadata": {
        "colab": {
          "base_uri": "https://localhost:8080/",
          "height": 295
        },
        "id": "UlaPTiOwElGG",
        "outputId": "5e8291dd-7639-40c7-ae1f-fd4219ecbbb1"
      },
      "execution_count": 84,
      "outputs": [
        {
          "output_type": "display_data",
          "data": {
            "text/plain": [
              "<Figure size 432x288 with 1 Axes>"
            ],
            "image/png": "[encoded data removed]"
          },
          "metadata": {
            "needs_background": "light"
          }
        }
      ]
    },
    {
      "cell_type": "markdown",
      "source": [
        "Plot capital_loss using histogram"
      ],
      "metadata": {
        "id": "85h6GzPTKL9Z"
      }
    },
    {
      "cell_type": "code",
      "source": [
        "plt.hist(income94.capital_loss, bins = 12)\n",
        "plt.title('Histogram of capital_loss')\n",
        "plt.xlabel('Capital Loss')\n",
        "plt.ylabel('Relative Frequency')\n",
        "plt.show()"
      ],
      "metadata": {
        "colab": {
          "base_uri": "https://localhost:8080/",
          "height": 295
        },
        "id": "YRoldumhKP0e",
        "outputId": "b89a3ee9-683f-49e9-ce2e-9a97645f77d3"
      },
      "execution_count": 85,
      "outputs": [
        {
          "output_type": "display_data",
          "data": {
            "text/plain": [
              "<Figure size 432x288 with 1 Axes>"
            ],
            "image/png": "[encoded data removed]"
          },
          "metadata": {
            "needs_background": "light"
          }
        }
      ]
    },
    {
      "cell_type": "markdown",
      "source": [
        "As shown the histograms, the majority of the samples in the dataframe have 0 capital_loss or capital_gains, so viewing them as a continuous numerical variable whilst doing linear regression not that useful. Therefore, I think they can be transformed into the categorical data has_capital_gain and has_capital_loss which will be True when the value of their corresponding cell is greater than 0 and False otherwise."
      ],
      "metadata": {
        "id": "UGoVca-LKdTw"
      }
    },
    {
      "cell_type": "code",
      "source": [
        "income94['has_capital_gain'] = np.where(income94['capital_gain'] > 0, True, False)\n",
        "income94['has_capital_loss'] = np.where(income94['capital_loss'] > 0, True, False)\n",
        "print(income94['has_capital_gain'].value_counts())\n",
        "print(income94['has_capital_loss'].value_counts())"
      ],
      "metadata": {
        "colab": {
          "base_uri": "https://localhost:8080/",
          "height": 0
        },
        "id": "J4rIBHxuMzJq",
        "outputId": "1d29de16-3355-4f33-9f44-f52fd624fc96"
      },
      "execution_count": 86,
      "outputs": [
        {
          "output_type": "stream",
          "name": "stdout",
          "text": [
            "False    29849\n",
            "True      2712\n",
            "Name: has_capital_gain, dtype: int64\n",
            "False    31042\n",
            "True      1519\n",
            "Name: has_capital_loss, dtype: int64\n"
          ]
        }
      ]
    },
    {
      "cell_type": "markdown",
      "source": [
        "Explore the sampling weights in the dataset by plotting histogram and boxplot"
      ],
      "metadata": {
        "id": "dnqe7XyBQzUd"
      }
    },
    {
      "cell_type": "code",
      "source": [
        "plt.hist(income94.fnlwgt, bins = 12)\n",
        "plt.title('Histogram of sampling weights')\n",
        "plt.xlabel('fnlwgt')\n",
        "plt.ylabel('Relative Frequency')\n",
        "plt.show()"
      ],
      "metadata": {
        "colab": {
          "base_uri": "https://localhost:8080/",
          "height": 295
        },
        "id": "EzmENK-LPvJs",
        "outputId": "7f67ba2b-7ac3-4d15-ebe8-8ca985a0f12e"
      },
      "execution_count": 87,
      "outputs": [
        {
          "output_type": "display_data",
          "data": {
            "text/plain": [
              "<Figure size 432x288 with 1 Axes>"
            ],
            "image/png": "[encoded data removed]"
          },
          "metadata": {
            "needs_background": "light"
          }
        }
      ]
    },
    {
      "cell_type": "code",
      "source": [
        "sns.boxplot(x = 'fnlwgt', data = income94)\n",
        "plt.xlabel('fnlwgt')\n",
        "plt.title('Boxplot of fnlwgt')\n",
        "plt.show()"
      ],
      "metadata": {
        "colab": {
          "base_uri": "https://localhost:8080/",
          "height": 295
        },
        "id": "A0fVp2RmRMPb",
        "outputId": "60840448-79bb-4552-e37b-d65228f00d87"
      },
      "execution_count": 88,
      "outputs": [
        {
          "output_type": "display_data",
          "data": {
            "text/plain": [
              "<Figure size 432x288 with 1 Axes>"
            ],
            "image/png": "[encoded data removed]"
          },
          "metadata": {
            "needs_background": "light"
          }
        }
      ]
    },
    {
      "cell_type": "markdown",
      "source": [
        "The graphs indicate that the variable fnlwgt is very right scewed and there are many outliers. Because of the large number of outliers, I don't think they should be removed.\n",
        "\n",
        "Now, exploring the variable fnlwgt by the gender of the samples."
      ],
      "metadata": {
        "id": "tL-NxPHPRjef"
      }
    },
    {
      "cell_type": "code",
      "source": [
        "grouped = income94.groupby('sex')\n",
        "fig, ax = plt.subplots()\n",
        "grouped.boxplot(column='fnlwgt', by='sex', ax=ax)"
      ],
      "metadata": {
        "colab": {
          "base_uri": "https://localhost:8080/",
          "height": 392
        },
        "id": "kcuV8wcIRvxX",
        "outputId": "027101b0-ef14-49a6-92e9-ea760e4dd54c"
      },
      "execution_count": 89,
      "outputs": [
        {
          "output_type": "stream",
          "name": "stderr",
          "text": [
            "<ipython-input-89-bef171fafef7>:3: UserWarning: To output multiple subplots, the figure containing the passed axes is being cleared\n",
            "  grouped.boxplot(column='fnlwgt', by='sex', ax=ax)\n"
          ]
        },
        {
          "output_type": "execute_result",
          "data": {
            "text/plain": [
              " Female         AxesSubplot(0.1,0.15;0.363636x0.75)\n",
              " Male      AxesSubplot(0.536364,0.15;0.363636x0.75)\n",
              "dtype: object"
            ]
          },
          "metadata": {},
          "execution_count": 89
        },
        {
          "output_type": "display_data",
          "data": {
            "text/plain": [
              "<Figure size 432x288 with 2 Axes>"
            ],
            "image/png": "[encoded data removed]"
          },
          "metadata": {
            "needs_background": "light"
          }
        }
      ]
    },
    {
      "cell_type": "markdown",
      "source": [
        "As shown in the two boxplots, which are grouped by sex, the distribution is quite similar\n",
        "\n",
        "# Correlation\n",
        "\n",
        "Find correlation between age, education_num, and hours_per_week by drawing a correlation matrix"
      ],
      "metadata": {
        "id": "cxw28WvTTzkT"
      }
    },
    {
      "cell_type": "code",
      "source": [
        "selected_columns = income94[['age', 'education_num', 'hours_per_week']]\n",
        "corr_matrix = selected_columns.corr()\n",
        "corr_matrix"
      ],
      "metadata": {
        "colab": {
          "base_uri": "https://localhost:8080/",
          "height": 143
        },
        "id": "1COh91Z6lSDb",
        "outputId": "a7c30337-cdf7-4b0a-a41d-0d3cf3a029cd"
      },
      "execution_count": 90,
      "outputs": [
        {
          "output_type": "execute_result",
          "data": {
            "text/plain": [
              "                     age  education_num  hours_per_week\n",
              "age             1.000000       0.036527        0.068756\n",
              "education_num   0.036527       1.000000        0.148123\n",
              "hours_per_week  0.068756       0.148123        1.000000"
            ],
            "text/html": [
              "\n",
              "  <div id=\"df-d70d0be1-e851-49d7-b7dd-eb3bb5e776bd\">\n",
              "    <div class=\"colab-df-container\">\n",
              "      <div>\n",
              "<style scoped>\n",
              "    .dataframe tbody tr th:only-of-type {\n",
              "        vertical-align: middle;\n",
              "    }\n",
              "\n",
              "    .dataframe tbody tr th {\n",
              "        vertical-align: top;\n",
              "    }\n",
              "\n",
              "    .dataframe thead th {\n",
              "        text-align: right;\n",
              "    }\n",
              "</style>\n",
              "<table border=\"1\" class=\"dataframe\">\n",
              "  <thead>\n",
              "    <tr style=\"text-align: right;\">\n",
              "      <th></th>\n",
              "      <th>age</th>\n",
              "      <th>education_num</th>\n",
              "      <th>hours_per_week</th>\n",
              "    </tr>\n",
              "  </thead>\n",
              "  <tbody>\n",
              "    <tr>\n",
              "      <th>age</th>\n",
              "      <td>1.000000</td>\n",
              "      <td>0.036527</td>\n",
              "      <td>0.068756</td>\n",
              "    </tr>\n",
              "    <tr>\n",
              "      <th>education_num</th>\n",
              "      <td>0.036527</td>\n",
              "      <td>1.000000</td>\n",
              "      <td>0.148123</td>\n",
              "    </tr>\n",
              "    <tr>\n",
              "      <th>hours_per_week</th>\n",
              "      <td>0.068756</td>\n",
              "      <td>0.148123</td>\n",
              "      <td>1.000000</td>\n",
              "    </tr>\n",
              "  </tbody>\n",
              "</table>\n",
              "</div>\n",
              "      <button class=\"colab-df-convert\" onclick=\"convertToInteractive('df-d70d0be1-e851-49d7-b7dd-eb3bb5e776bd')\"\n",
              "              title=\"Convert this dataframe to an interactive table.\"\n",
              "              style=\"display:none;\">\n",
              "        \n",
              "  <svg xmlns=\"http://www.w3.org/2000/svg\" height=\"24px\"viewBox=\"0 0 24 24\"\n",
              "       width=\"24px\">\n",
              "    <path d=\"M0 0h24v24H0V0z\" fill=\"none\"/>\n",
              "    <path d=\"M18.56 5.44l.94 2.06.94-2.06 2.06-.94-2.06-.94-.94-2.06-.94 2.06-2.06.94zm-11 1L8.5 8.5l.94-2.06 2.06-.94-2.06-.94L8.5 2.5l-.94 2.06-2.06.94zm10 10l.94 2.06.94-2.06 2.06-.94-2.06-.94-.94-2.06-.94 2.06-2.06.94z\"/><path d=\"M17.41 7.96l-1.37-1.37c-.4-.4-.92-.59-1.43-.59-.52 0-1.04.2-1.43.59L10.3 9.45l-7.72 7.72c-.78.78-.78 2.05 0 2.83L4 21.41c.39.39.9.59 1.41.59.51 0 1.02-.2 1.41-.59l7.78-7.78 2.81-2.81c.8-.78.8-2.07 0-2.86zM5.41 20L4 18.59l7.72-7.72 1.47 1.35L5.41 20z\"/>\n",
              "  </svg>\n",
              "      </button>\n",
              "      \n",
              "  <style>\n",
              "    .colab-df-container {\n",
              "      display:flex;\n",
              "      flex-wrap:wrap;\n",
              "      gap: 12px;\n",
              "    }\n",
              "\n",
              "    .colab-df-convert {\n",
              "      background-color: #E8F0FE;\n",
              "      border: none;\n",
              "      border-radius: 50%;\n",
              "      cursor: pointer;\n",
              "      display: none;\n",
              "      fill: #1967D2;\n",
              "      height: 32px;\n",
              "      padding: 0 0 0 0;\n",
              "      width: 32px;\n",
              "    }\n",
              "\n",
              "    .colab-df-convert:hover {\n",
              "      background-color: #E2EBFA;\n",
              "      box-shadow: 0px 1px 2px rgba(60, 64, 67, 0.3), 0px 1px 3px 1px rgba(60, 64, 67, 0.15);\n",
              "      fill: #174EA6;\n",
              "    }\n",
              "\n",
              "    [theme=dark] .colab-df-convert {\n",
              "      background-color: #3B4455;\n",
              "      fill: #D2E3FC;\n",
              "    }\n",
              "\n",
              "    [theme=dark] .colab-df-convert:hover {\n",
              "      background-color: #434B5C;\n",
              "      box-shadow: 0px 1px 3px 1px rgba(0, 0, 0, 0.15);\n",
              "      filter: drop-shadow(0px 1px 2px rgba(0, 0, 0, 0.3));\n",
              "      fill: #FFFFFF;\n",
              "    }\n",
              "  </style>\n",
              "\n",
              "      <script>\n",
              "        const buttonEl =\n",
              "          document.querySelector('#df-d70d0be1-e851-49d7-b7dd-eb3bb5e776bd button.colab-df-convert');\n",
              "        buttonEl.style.display =\n",
              "          google.colab.kernel.accessAllowed ? 'block' : 'none';\n",
              "\n",
              "        async function convertToInteractive(key) {\n",
              "          const element = document.querySelector('#df-d70d0be1-e851-49d7-b7dd-eb3bb5e776bd');\n",
              "          const dataTable =\n",
              "            await google.colab.kernel.invokeFunction('convertToInteractive',\n",
              "                                                     [key], {});\n",
              "          if (!dataTable) return;\n",
              "\n",
              "          const docLinkHtml = 'Like what you see? Visit the ' +\n",
              "            '<a target=\"_blank\" href=https://colab.research.google.com/notebooks/data_table.ipynb>data table notebook</a>'\n",
              "            + ' to learn more about interactive tables.';\n",
              "          element.innerHTML = '';\n",
              "          dataTable['output_type'] = 'display_data';\n",
              "          await google.colab.output.renderOutput(dataTable, element);\n",
              "          const docLink = document.createElement('div');\n",
              "          docLink.innerHTML = docLinkHtml;\n",
              "          element.appendChild(docLink);\n",
              "        }\n",
              "      </script>\n",
              "    </div>\n",
              "  </div>\n",
              "  "
            ]
          },
          "metadata": {},
          "execution_count": 90
        }
      ]
    },
    {
      "cell_type": "markdown",
      "source": [
        "It seems that none of the variables seem related because the highest correlation coefficient between all the variables are 0.148, which is between the variables hours per week and education num, and 0.148 indicates very weak positive correlation.\n",
        "\n",
        "Perform Independent Samples T-Test on the variables education_num and hours_per_week"
      ],
      "metadata": {
        "id": "Rgsd_hVxnWSR"
      }
    },
    {
      "cell_type": "code",
      "source": [
        "t_test_results = ttest_ind(income94['education_num'], income94['hours_per_week'])\n",
        "print(t_test_results)"
      ],
      "metadata": {
        "colab": {
          "base_uri": "https://localhost:8080/",
          "height": 0
        },
        "id": "Ywwq5d4ZoWnu",
        "outputId": "877db929-04a3-49fb-f30d-8905452b9caf"
      },
      "execution_count": 91,
      "outputs": [
        {
          "output_type": "stream",
          "name": "stdout",
          "text": [
            "Ttest_indResult(statistic=-434.3097872965163, pvalue=0.0)\n"
          ]
        }
      ]
    },
    {
      "cell_type": "markdown",
      "source": [
        "The sample T-test shows us that the means of the two groups are significantly different. This finding is expected because these two groups are merely related in any ways.\n",
        "\n",
        "Now, find the correlation of the variables age and education_num of males and females then compare them."
      ],
      "metadata": {
        "id": "TZNo2MtTqFYn"
      }
    },
    {
      "cell_type": "code",
      "source": [
        "grouped = income94.groupby('sex')\n",
        "corr_by_group = grouped.apply(lambda x: np.corrcoef(x['age'], x['education_num'])[0, 1])\n",
        "print(corr_by_group)"
      ],
      "metadata": {
        "colab": {
          "base_uri": "https://localhost:8080/",
          "height": 0
        },
        "id": "uZ8ELYBgsJWn",
        "outputId": "2fdc16ab-36af-4af4-daff-98e3b7c630d3"
      },
      "execution_count": 92,
      "outputs": [
        {
          "output_type": "stream",
          "name": "stdout",
          "text": [
            "sex\n",
            " Female   -0.017899\n",
            " Male      0.060486\n",
            "dtype: float64\n"
          ]
        }
      ]
    },
    {
      "cell_type": "markdown",
      "source": [
        "After grouping them into males and females, I found that the correlation coefficient of the two groups of the variables age and education_num are still very low, which is expected. However, the correlation of these variables for the females is negative, which is somewhat unexpected but also expected since the correlation of the entire group was already very low, so for one of the groups to be negative isn't that surprising.\n",
        "\n",
        "Covariance matrix for education_num and hours_per_week"
      ],
      "metadata": {
        "id": "wWwzz9pKssjV"
      }
    },
    {
      "cell_type": "code",
      "source": [
        "selected_columns = income94[['education_num', 'hours_per_week']]\n",
        "cov_matrix = selected_columns.cov()\n",
        "print(cov_matrix)"
      ],
      "metadata": {
        "colab": {
          "base_uri": "https://localhost:8080/",
          "height": 0
        },
        "id": "rb_nl67kuTEI",
        "outputId": "86aa18d9-ed77-4d48-d271-07d88ebdea3e"
      },
      "execution_count": 98,
      "outputs": [
        {
          "output_type": "stream",
          "name": "stdout",
          "text": [
            "                education_num  hours_per_week\n",
            "education_num        6.618890        4.705338\n",
            "hours_per_week       4.705338      152.458995\n"
          ]
        }
      ]
    },
    {
      "cell_type": "markdown",
      "source": [
        "The covariance matrix shows that there is a positive relationship between the two variables, so as one variable increases, the other increases too. Furthermore, hours_per_week has a larger variance than the education_num (which is expected since the number of hours people work can vary a lot while education_num won't vary much)\n",
        "\n",
        "# Regression\n",
        "Fit a linear regression model with hours_per_week as the dependent variable and sex as the independent variable"
      ],
      "metadata": {
        "id": "o6e8QbLAvF4p"
      }
    },
    {
      "cell_type": "code",
      "source": [
        "reg1 = smf.ols('hours_per_week ~ sex', data = income94).fit()\n",
        "print(reg1.summary())"
      ],
      "metadata": {
        "colab": {
          "base_uri": "https://localhost:8080/",
          "height": 0
        },
        "id": "7iusz73x5xzs",
        "outputId": "3f2ec6bf-df79-4594-861f-6b331b20b5a2"
      },
      "execution_count": 94,
      "outputs": [
        {
          "output_type": "stream",
          "name": "stdout",
          "text": [
            "                            OLS Regression Results                            \n",
            "==============================================================================\n",
            "Dep. Variable:         hours_per_week   R-squared:                       0.053\n",
            "Model:                            OLS   Adj. R-squared:                  0.053\n",
            "Method:                 Least Squares   F-statistic:                     1807.\n",
            "Date:                Tue, 14 Feb 2023   Prob (F-statistic):               0.00\n",
            "Time:                        19:53:04   Log-Likelihood:            -1.2716e+05\n",
            "No. Observations:               32561   AIC:                         2.543e+05\n",
            "Df Residuals:                   32559   BIC:                         2.543e+05\n",
            "Df Model:                           1                                         \n",
            "Covariance Type:            nonrobust                                         \n",
            "================================================================================\n",
            "                   coef    std err          t      P>|t|      [0.025      0.975]\n",
            "--------------------------------------------------------------------------------\n",
            "Intercept       36.4104      0.116    314.412      0.000      36.183      36.637\n",
            "sex[T. Male]     6.0177      0.142     42.510      0.000       5.740       6.295\n",
            "==============================================================================\n",
            "Omnibus:                     2649.390   Durbin-Watson:                   2.019\n",
            "Prob(Omnibus):                  0.000   Jarque-Bera (JB):            13090.867\n",
            "Skew:                           0.239   Prob(JB):                         0.00\n",
            "Kurtosis:                       6.069   Cond. No.                         3.24\n",
            "==============================================================================\n",
            "\n",
            "Notes:\n",
            "[1] Standard Errors assume that the covariance matrix of the errors is correctly specified.\n"
          ]
        }
      ]
    },
    {
      "cell_type": "markdown",
      "source": [
        "According to this graph, the baseline (female) work an average 36.41 hours per week and the average male works an average 6 hours more, which means the average male works for 42.42 hours per week.\n",
        "\n",
        "Add education_num as a control variable."
      ],
      "metadata": {
        "id": "nH2bORERCzNp"
      }
    },
    {
      "cell_type": "code",
      "source": [
        "reg1 = smf.ols('hours_per_week ~ sex + education_num', data = income94).fit()\n",
        "print(reg1.summary())"
      ],
      "metadata": {
        "colab": {
          "base_uri": "https://localhost:8080/",
          "height": 0
        },
        "id": "rkaomKKQGajd",
        "outputId": "dd8786f3-889a-49da-a546-0a5a54e4eb2b"
      },
      "execution_count": 95,
      "outputs": [
        {
          "output_type": "stream",
          "name": "stdout",
          "text": [
            "                            OLS Regression Results                            \n",
            "==============================================================================\n",
            "Dep. Variable:         hours_per_week   R-squared:                       0.074\n",
            "Model:                            OLS   Adj. R-squared:                  0.074\n",
            "Method:                 Least Squares   F-statistic:                     1295.\n",
            "Date:                Tue, 14 Feb 2023   Prob (F-statistic):               0.00\n",
            "Time:                        19:53:04   Log-Likelihood:            -1.2680e+05\n",
            "No. Observations:               32561   AIC:                         2.536e+05\n",
            "Df Residuals:                   32558   BIC:                         2.536e+05\n",
            "Df Model:                           2                                         \n",
            "Covariance Type:            nonrobust                                         \n",
            "=================================================================================\n",
            "                    coef    std err          t      P>|t|      [0.025      0.975]\n",
            "---------------------------------------------------------------------------------\n",
            "Intercept        29.4106      0.281    104.556      0.000      28.859      29.962\n",
            "sex[T. Male]      5.9709      0.140     42.653      0.000       5.697       6.245\n",
            "education_num     0.6975      0.026     27.244      0.000       0.647       0.748\n",
            "==============================================================================\n",
            "Omnibus:                     2783.881   Durbin-Watson:                   2.018\n",
            "Prob(Omnibus):                  0.000   Jarque-Bera (JB):            14492.060\n",
            "Skew:                           0.247   Prob(JB):                         0.00\n",
            "Kurtosis:                       6.231   Cond. No.                         45.6\n",
            "==============================================================================\n",
            "\n",
            "Notes:\n",
            "[1] Standard Errors assume that the covariance matrix of the errors is correctly specified.\n"
          ]
        }
      ]
    },
    {
      "cell_type": "markdown",
      "source": [
        "The trend in hours worked by men and women remains the same since at the same level of education, the model suggests that the average male works 5.97 more hours than the baseline (female). The coefficient for education_num is statistically significant since the value of P > |t| is 0 in the education_num row. The 95% interval confidence interval for the baseline (female with 0 education_num) is [28.859, 29.962].\n",
        "\n",
        "Now add gross_income_group as a binary variable."
      ],
      "metadata": {
        "id": "WfJ4qx6bHdP-"
      }
    },
    {
      "cell_type": "code",
      "source": [
        "reg1 = smf.ols('hours_per_week ~ sex + education_num + gross_income_group', data = income94).fit()\n",
        "print(reg1.summary())"
      ],
      "metadata": {
        "colab": {
          "base_uri": "https://localhost:8080/",
          "height": 0
        },
        "id": "8HwBLjZEOErn",
        "outputId": "d82345f0-1b7d-4e01-a6f6-bed0d069aa7f"
      },
      "execution_count": 96,
      "outputs": [
        {
          "output_type": "stream",
          "name": "stdout",
          "text": [
            "                            OLS Regression Results                            \n",
            "==============================================================================\n",
            "Dep. Variable:         hours_per_week   R-squared:                       0.094\n",
            "Model:                            OLS   Adj. R-squared:                  0.094\n",
            "Method:                 Least Squares   F-statistic:                     1130.\n",
            "Date:                Tue, 14 Feb 2023   Prob (F-statistic):               0.00\n",
            "Time:                        19:53:04   Log-Likelihood:            -1.2643e+05\n",
            "No. Observations:               32561   AIC:                         2.529e+05\n",
            "Df Residuals:                   32557   BIC:                         2.529e+05\n",
            "Df Model:                           3                                         \n",
            "Covariance Type:            nonrobust                                         \n",
            "===============================================================================================\n",
            "                                  coef    std err          t      P>|t|      [0.025      0.975]\n",
            "-----------------------------------------------------------------------------------------------\n",
            "Intercept                      31.4218      0.288    109.184      0.000      30.858      31.986\n",
            "sex[T. Male]                    5.1010      0.142     35.907      0.000       4.823       5.379\n",
            "gross_income_group[T. >50K]     4.5175      0.166     27.229      0.000       4.192       4.843\n",
            "education_num                   0.4478      0.027     16.632      0.000       0.395       0.501\n",
            "==============================================================================\n",
            "Omnibus:                     2984.190   Durbin-Watson:                   2.015\n",
            "Prob(Omnibus):                  0.000   Jarque-Bera (JB):            15467.160\n",
            "Skew:                           0.296   Prob(JB):                         0.00\n",
            "Kurtosis:                       6.324   Cond. No.                         48.1\n",
            "==============================================================================\n",
            "\n",
            "Notes:\n",
            "[1] Standard Errors assume that the covariance matrix of the errors is correctly specified.\n"
          ]
        }
      ]
    },
    {
      "cell_type": "markdown",
      "source": [
        "The statistic I used to decide which one is the best is R squared. The higher the R squared, the better the fit the regression model to the data. Therefore, I believe the best model is the third one, so the one with all sex, gross_income_group, and education_num. The second to best is the model with sex and education_num. The worst is the first model with only sex as the independent variable."
      ],
      "metadata": {
        "id": "COubTtuYPbWw"
      }
    }
  ]
}